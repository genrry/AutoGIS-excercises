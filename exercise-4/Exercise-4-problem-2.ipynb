{
 "cells": [
  {
   "cell_type": "markdown",
   "metadata": {},
   "source": [
    "## Problem 2: Calculate and visualize the dominance areas of shopping centers (10 points)\n",
    "\n",
    "In this problem, the aim is to define the dominance area for each of those shopping centers based on public transport travel time. The result will look something like this:\n",
    "\n",
    "![](img/P2_sample.png)\n",
    "\n",
    "\n",
    "### Data\n",
    "\n",
    " - The [data/](data/) directory contains 7 text files having data about accessibility in Helsinki Region, and a Shapefile that contains a Polygon grid that can be used to visualize and analyze the data spatially:\n",
    " \n",
    "     - `travel_times_to_[XXXXXXX]_[NAME-OF-THE-CENTER].txt` including travel times and road network distances to a specific shopping center\n",
    "     - `MetropAccess_YKR_grid_EurefFIN.shp` including the Polygon grid with YKR_ID column that can be used to join the grid with the    accessibility data\n",
    "\n",
    "\n",
    "### An overview of the problem\n",
    "\n",
    "In this problem we want to identify the closest shopping center for each grid cell in the region by public transport, and to visualize dominance areas for each shopping center based on this information. \n",
    "\n",
    "1. **Combine public transport travel time information from all input files into one GeoDataFrame**. \n",
    "    - Read in the grid file (`MetropAccess_YKR_grid_EurefFIN.shp`)\n",
    "    - For each travel time file (7 files in total):\n",
    "         - read in the data\n",
    "         - rename the travel time columns so that they can be identified; Include the name of each shopping center to the column name: `'pt_r_t_Jumbo', 'pt_r_t_Dixi'`, and so on, based on the input file name.\n",
    "         - Join those columns into the grid where `YKR_ID` in the grid corresponds to `from_id` in the travel time data file. \n",
    "    - At the end you should have one GeoDataFrame with different columns containing the travel times to different shopping centers.\n",
    "     \n",
    "     \n",
    "2. **Find out the closest shopping center for each grid cell in the region**:\n",
    "    - For each grid cell (each row) find out the **minimum time** across **all** travel time columns (`pt_r_t_X`) and insert that value into a new column called `min_t`. \n",
    "    - You should also figure out the name of the shopping center that is closest to that particular grid square and store the name of the closest shopping center into a new column `dominant_service` on each row. \n",
    "        - Hint: You can identify which column contains the minimum travel time on each row using the `idxmin()` function.\n",
    "    \n",
    "    \n",
    "3. **Finally, visualize the dominance areas and travel times**:\n",
    "     - visualize the dominance areas using the codes found in column `dominant_service`. \n",
    "     - Visualize travel times to shopping centers from the `min_t` column \n",
    "     - You should create subplots with 2 rows and one column (see the example above).\n",
    "     \n",
    "In this way, we are able to determine the \"closest\" shopping center for each grid cell and visualize the dominance area for each shopping center (by visualizing the grid squares according to the dominant service), or the travel time from each grid cell to the closest shopping center (see example figure above). Remember to upload all your work into your own Exercise 4 repository.\n",
    " \n",
    "### Steps"
   ]
  },
  {
   "cell_type": "markdown",
   "metadata": {},
   "source": [
    "- Read `MetropAccess_YKR_grid_EurefFIN.shp` shapefile into a variable called `grid`"
   ]
  },
  {
   "cell_type": "code",
   "execution_count": 1,
   "metadata": {
    "deletable": false,
    "nbgrader": {
     "cell_type": "code",
     "checksum": "85d6d019e5a3ab02634814ca30c19990",
     "grade": false,
     "grade_id": "read_filepaths",
     "locked": false,
     "schema_version": 3,
     "solution": true
    }
   },
   "outputs": [],
   "source": [
    "# REPLACE THE ERROR BELOW WITH YOUR OWN CODE\n",
    "import pandas as pd\n",
    "import geopandas as gpd\n",
    "import os\n",
    "\n",
    "grid = gpd.read_file(os.path.join('data','MetropAccess_YKR_grid_EurefFIN.shp'))"
   ]
  },
  {
   "cell_type": "code",
   "execution_count": 2,
   "metadata": {
    "deletable": false,
    "editable": false,
    "nbgrader": {
     "cell_type": "code",
     "checksum": "6c823e5f4a607446412b2bfb8a8cac8a",
     "grade": true,
     "grade_id": "problem_2_read_filepaths_test",
     "locked": true,
     "points": 0.5,
     "schema_version": 3,
     "solution": false
    }
   },
   "outputs": [
    {
     "name": "stdout",
     "output_type": "stream",
     "text": [
      "          x          y   YKR_ID  \\\n",
      "0  381875.0  6697880.0  5785640   \n",
      "1  382125.0  6697880.0  5785641   \n",
      "2  382375.0  6697880.0  5785642   \n",
      "3  382625.0  6697880.0  5785643   \n",
      "4  381125.0  6697630.0  5787544   \n",
      "\n",
      "                                            geometry  \n",
      "0  POLYGON ((382000.000 6697750.000, 381750.000 6...  \n",
      "1  POLYGON ((382250.000 6697750.000, 382000.000 6...  \n",
      "2  POLYGON ((382500.000 6697750.000, 382250.000 6...  \n",
      "3  POLYGON ((382750.000 6697750.000, 382500.000 6...  \n",
      "4  POLYGON ((381250.000 6697500.000, 381000.000 6...  \n"
     ]
    }
   ],
   "source": [
    "# NON-EDITABLE TEST CELL\n",
    "#Check input grid\n",
    "print(grid.head())"
   ]
  },
  {
   "cell_type": "markdown",
   "metadata": {},
   "source": [
    "- Fetch the filepaths to all textfiles found in [data/](/data) directory that contain information about the travel times to different shopping centers\n",
    "  - Use `glob.glob()` -function to list the filenames into a list called `filepaths`"
   ]
  },
  {
   "cell_type": "code",
   "execution_count": 3,
   "metadata": {
    "deletable": false,
    "nbgrader": {
     "cell_type": "code",
     "checksum": "75023ac7682c11ca65ffa9034375ddd5",
     "grade": false,
     "grade_id": "cell-fd299c5ebdc26382",
     "locked": false,
     "schema_version": 3,
     "solution": true,
     "task": false
    }
   },
   "outputs": [],
   "source": [
    "# REPLACE THE ERROR BELOW WITH YOUR OWN CODE\n",
    "from glob import glob\n",
    "\n",
    "filepaths = glob(os.path.join('data','*.txt'))"
   ]
  },
  {
   "cell_type": "code",
   "execution_count": 4,
   "metadata": {
    "deletable": false,
    "editable": false,
    "nbgrader": {
     "cell_type": "code",
     "checksum": "866746cdcf09073e28a61d953d627f0b",
     "grade": true,
     "grade_id": "problem_2_glob_test",
     "locked": true,
     "points": 0.5,
     "schema_version": 3,
     "solution": false,
     "task": false
    }
   },
   "outputs": [
    {
     "name": "stdout",
     "output_type": "stream",
     "text": [
      "Number of travel time data files:  7\n"
     ]
    }
   ],
   "source": [
    "# NON-EDITABLE TEST CELL\n",
    "# Check how many filepaths there are\n",
    "print(\"Number of travel time data files: \", len(filepaths))"
   ]
  },
  {
   "cell_type": "markdown",
   "metadata": {},
   "source": [
    "**Join information from all the input layers into the grid.** As output, you should have a GeoDataFrame (`grid`)\n",
    "that contains the YKR_ID, grid geometry, and travel times to each shopping center. You should have (at least) 9 columns in the merged output:\n",
    "\n",
    "Required columns: `'YKR_ID', 'pt_r_t_Jumbo', 'pt_r_t_Dixi', 'pt_r_t_Myyrmanni', 'pt_r_t_Itis', 'pt_r_t_Forum', 'pt_r_t_IsoOmena', 'pt_r_t_Ruoholahti', 'geometry'`.\n",
    "\n",
    "**Steps:**\n",
    "\n",
    "Create a for-loop where you iterate over the `filepaths` list:\n",
    "\n",
    "  - Read the current filepath using pandas \n",
    "  - Select columns `from_id` and `pt_r_t` from the data (= subset the data so that it only contains these columns)\n",
    "  - Rename column `from_id` to `YKR_ID` (this makes the join easier)\n",
    "  - Rename the column `pt_r_t` in a way that it has contains the shopping center name. On first iteration the column name should be `pt_r_t_Jumbo`, on the second iteration `pt_r_t_Dixi` and so on.\n",
    "  - Make a table join between the `grid` GeoDataFrame and the travel times (with updated column name) using the `merge()` function (at each iteration, you add a new column to variable `grid`). Do the join based on the `YKR_ID` column.\n",
    "  \n",
    "*How to get the shopping center name?*\n",
    "\n",
    "- You can split the input filepath based on the underscores (`\"_\"`) using the [str.split](https://docs.python.org/3.7/library/stdtypes.html#str.split) function. The shopping center name is the last object (located at index -1) in the splitted object.\n",
    "- Furthermore, you can strip out letters from the string object using string slicing. For example, if `fp = \"redi.txt\"`, then `fp[:-4]` equals to \"redi\" :)\n"
   ]
  },
  {
   "cell_type": "code",
   "execution_count": 5,
   "metadata": {
    "deletable": false,
    "nbgrader": {
     "cell_type": "code",
     "checksum": "f798cb4d7e7571d731058d80cbf71057",
     "grade": false,
     "grade_id": "merge_traveltimes",
     "locked": false,
     "schema_version": 3,
     "solution": true
    }
   },
   "outputs": [],
   "source": [
    "# REPLACE THE ERROR BELOW WITH YOUR OWN CODE\n",
    "names = [filepath.split('_')[-1][:-4] for filepath in filepaths]\n",
    "\n",
    "for filepath in filepaths:\n",
    "    shopping_center_name = filepath.split('_')[-1][:-4]\n",
    "    data = pd.read_csv(filepath, sep=';').set_index('from_id')[['pt_r_t']].rename(columns={'pt_r_t':f'pt_r_t_{shopping_center_name}'})\n",
    "    grid = grid.merge(data, left_on='YKR_ID', right_index=True)"
   ]
  },
  {
   "cell_type": "code",
   "execution_count": 7,
   "metadata": {
    "deletable": false,
    "editable": false,
    "nbgrader": {
     "cell_type": "code",
     "checksum": "1b4962547b0f513988d098e161d13ba1",
     "grade": true,
     "grade_id": "problem_2_merge_traveltimes_tests",
     "locked": true,
     "points": 3,
     "schema_version": 3,
     "solution": false
    }
   },
   "outputs": [
    {
     "name": "stdout",
     "output_type": "stream",
     "text": [
      "          x          y   YKR_ID  \\\n",
      "0  381875.0  6697880.0  5785640   \n",
      "1  382125.0  6697880.0  5785641   \n",
      "2  382375.0  6697880.0  5785642   \n",
      "3  382625.0  6697880.0  5785643   \n",
      "4  381125.0  6697630.0  5787544   \n",
      "\n",
      "                                            geometry  pt_r_t_Jumbo  \\\n",
      "0  POLYGON ((382000.000 6697750.000, 381750.000 6...           101   \n",
      "1  POLYGON ((382250.000 6697750.000, 382000.000 6...           108   \n",
      "2  POLYGON ((382500.000 6697750.000, 382250.000 6...           109   \n",
      "3  POLYGON ((382750.000 6697750.000, 382500.000 6...           114   \n",
      "4  POLYGON ((381250.000 6697500.000, 381000.000 6...            98   \n",
      "\n",
      "   pt_r_t_Dixi  pt_r_t_Myyrmanni  pt_r_t_Itis  pt_r_t_Forum  pt_r_t_IsoOmena  \\\n",
      "0          102                90          132           110              141   \n",
      "1          109                93          135           113              143   \n",
      "2          111                95          137           115              145   \n",
      "3          115                99          141           119              149   \n",
      "4           99                83          125           103              134   \n",
      "\n",
      "   pt_r_t_Ruoholahti  \n",
      "0                118  \n",
      "1                121  \n",
      "2                123  \n",
      "3                127  \n",
      "4                111  \n"
     ]
    }
   ],
   "source": [
    "# NON-EDITABLE TEST CELL\n",
    "#Check data\n",
    "print(grid.head())\n",
    "\n",
    "# Check that there are correct number of columns\n",
    "assert len(grid.columns) >= 9, \"There are some columns missing from the grid.\""
   ]
  },
  {
   "cell_type": "markdown",
   "metadata": {},
   "source": [
    "- Remove rows containing -1 (no data values) from the dataframe. You can for example replace the no-data values with numpy's `np.nan`, and then drop no-data values using the [DataFrame.dropna](https://pandas.pydata.org/pandas-docs/stable/reference/api/pandas.DataFrame.dropna.html) function."
   ]
  },
  {
   "cell_type": "code",
   "execution_count": 8,
   "metadata": {
    "deletable": false,
    "nbgrader": {
     "cell_type": "code",
     "checksum": "16839d6c52be4c83c397a0d2e00cffc3",
     "grade": false,
     "grade_id": "no_data",
     "locked": false,
     "schema_version": 3,
     "solution": true
    }
   },
   "outputs": [],
   "source": [
    "grid = grid[~(grid==-1).any(1)]"
   ]
  },
  {
   "cell_type": "markdown",
   "metadata": {},
   "source": [
    "- For each grid cell (each row), find out the shortest travel time to any shopping center. Store the result in a new column `'min_t'`.\n",
    "- Find out also the column name (for example: `'pt_r_t_Jumbo'`), for the shortest travel time using the `idxmin()` function into a column called `'dominant_service'` ([see hints](https://automating-gis-processes.github.io/site/develop/lessons/L4/exercise-4.html#finding-out-which-shopping-center-is-the-closest)). "
   ]
  },
  {
   "cell_type": "code",
   "execution_count": 9,
   "metadata": {},
   "outputs": [
    {
     "data": {
      "text/plain": [
       "0        Myyrmanni\n",
       "1        Myyrmanni\n",
       "2        Myyrmanni\n",
       "3        Myyrmanni\n",
       "4        Myyrmanni\n",
       "           ...    \n",
       "13225     IsoOmena\n",
       "13226     IsoOmena\n",
       "13227     IsoOmena\n",
       "13229     IsoOmena\n",
       "13230     IsoOmena\n",
       "Length: 13020, dtype: object"
      ]
     },
     "execution_count": 9,
     "metadata": {},
     "output_type": "execute_result"
    }
   ],
   "source": [
    "grid[[col for col in grid.columns if col.startswith('pt_')]].idxmin(1).str.split('_').apply(lambda lst: lst[-1])"
   ]
  },
  {
   "cell_type": "code",
   "execution_count": 10,
   "metadata": {
    "deletable": false,
    "nbgrader": {
     "cell_type": "code",
     "checksum": "0560afabf1989b7fa98862b2b0b8af70",
     "grade": false,
     "grade_id": "min_t",
     "locked": false,
     "schema_version": 3,
     "solution": true
    }
   },
   "outputs": [
    {
     "name": "stderr",
     "output_type": "stream",
     "text": [
      "c:\\Users\\usuario\\miniconda3\\envs\\ml4eo\\lib\\site-packages\\geopandas\\geodataframe.py:1351: SettingWithCopyWarning: \n",
      "A value is trying to be set on a copy of a slice from a DataFrame.\n",
      "Try using .loc[row_indexer,col_indexer] = value instead\n",
      "\n",
      "See the caveats in the documentation: https://pandas.pydata.org/pandas-docs/stable/user_guide/indexing.html#returning-a-view-versus-a-copy\n",
      "  super().__setitem__(key, value)\n",
      "c:\\Users\\usuario\\miniconda3\\envs\\ml4eo\\lib\\site-packages\\geopandas\\geodataframe.py:1351: SettingWithCopyWarning: \n",
      "A value is trying to be set on a copy of a slice from a DataFrame.\n",
      "Try using .loc[row_indexer,col_indexer] = value instead\n",
      "\n",
      "See the caveats in the documentation: https://pandas.pydata.org/pandas-docs/stable/user_guide/indexing.html#returning-a-view-versus-a-copy\n",
      "  super().__setitem__(key, value)\n"
     ]
    }
   ],
   "source": [
    "# Create a new column for minimum travel time values \n",
    "grid['min_t'] = grid[[col for col in grid.columns if col.startswith('pt_')]].min(1)\n",
    "\n",
    "# Create a new column for the closest shopping center id values\n",
    "grid['dominant_service'] = grid[[col for col in grid.columns if col.startswith('pt_')]].idxmin(1).str.split('_').apply(lambda lst: lst[-1])"
   ]
  },
  {
   "cell_type": "code",
   "execution_count": 11,
   "metadata": {
    "deletable": false,
    "editable": false,
    "nbgrader": {
     "cell_type": "code",
     "checksum": "c98db9c7e4a063ff7696526350087958",
     "grade": true,
     "grade_id": "problem_2_min_t_test",
     "locked": true,
     "points": 2,
     "schema_version": 3,
     "solution": false
    }
   },
   "outputs": [
    {
     "name": "stdout",
     "output_type": "stream",
     "text": [
      "    YKR_ID  min_t dominant_service\n",
      "0  5785640     90        Myyrmanni\n",
      "1  5785641     93        Myyrmanni\n",
      "2  5785642     95        Myyrmanni\n",
      "3  5785643     99        Myyrmanni\n",
      "4  5787544     83        Myyrmanni\n"
     ]
    }
   ],
   "source": [
    "# NON-EDITABLE TEST CELL\n",
    "print(grid[['YKR_ID', 'min_t', 'dominant_service']].head())"
   ]
  },
  {
   "cell_type": "code",
   "execution_count": 12,
   "metadata": {
    "deletable": false,
    "editable": false,
    "nbgrader": {
     "cell_type": "code",
     "checksum": "2998ea638518cf02cad0bfa1930f9018",
     "grade": true,
     "grade_id": "problem_2_dominant_service_test",
     "locked": true,
     "points": 2,
     "schema_version": 3,
     "solution": false,
     "task": false
    }
   },
   "outputs": [
    {
     "name": "stdout",
     "output_type": "stream",
     "text": [
      "        YKR_ID  min_t dominant_service\n",
      "13225  6016697     40         IsoOmena\n",
      "13226  6016698     38         IsoOmena\n",
      "13227  6016699     40         IsoOmena\n",
      "13229  6018253     43         IsoOmena\n",
      "13230  6018254     42         IsoOmena\n"
     ]
    }
   ],
   "source": [
    "# NON-EDITABLE TEST CELL\n",
    "print(grid[['YKR_ID', 'min_t', 'dominant_service']].tail())"
   ]
  },
  {
   "cell_type": "markdown",
   "metadata": {},
   "source": [
    "- Visualize the dominance areas and travel times in one figure which has 2 subplots (2 rows and one column):\n",
    "     - visualize the dominance areas using the names found in `dominant_service` column. \n",
    "     - Visualize travel times to shopping centers from the `min_t` column \n"
   ]
  },
  {
   "cell_type": "code",
   "execution_count": 15,
   "metadata": {
    "deletable": false,
    "nbgrader": {
     "cell_type": "code",
     "checksum": "28c4c267871440bad21089a47127d542",
     "grade": true,
     "grade_id": "plot",
     "locked": false,
     "points": 2,
     "schema_version": 3,
     "solution": true
    }
   },
   "outputs": [
    {
     "data": {
      "image/png": "[encoded data removed]",
      "text/plain": [
       "<Figure size 720x864 with 2 Axes>"
      ]
     },
     "metadata": {
      "needs_background": "light"
     },
     "output_type": "display_data"
    }
   ],
   "source": [
    "import matplotlib.pyplot as plt\n",
    "\n",
    "figure, axes = plt.subplots(1,2, figsize=(10,12))\n",
    "ax1, ax2 = axes\n",
    "grid.plot(column='dominant_service', ax=ax1, cmap=\"RdYlBu\")\n",
    "grid.plot(column='min_t', ax=ax2, cmap=\"RdYlBu\")\n",
    "plt.tight_layout()\n",
    "plt.show()"
   ]
  },
  {
   "cell_type": "markdown",
   "metadata": {},
   "source": [
    "That's it! If you want more challenge, you can still continue to optional problem 3. For problem 3, you need to save the `grid` with information about dominant services to file:"
   ]
  },
  {
   "cell_type": "code",
   "execution_count": 16,
   "metadata": {},
   "outputs": [
    {
     "name": "stderr",
     "output_type": "stream",
     "text": [
      "<ipython-input-16-72f5c68847ea>:2: UserWarning: Column names longer than 10 characters will be truncated when saved to ESRI Shapefile.\n",
      "  grid.to_file(os.path.join('data','grid.shp'))\n"
     ]
    }
   ],
   "source": [
    "# Save grid to file (if you want to continue to problem 3)\n",
    "grid.to_file(os.path.join('data','grid.shp'))"
   ]
  }
 ],
 "metadata": {
  "anaconda-cloud": {},
  "kernelspec": {
   "display_name": "Python 3.8.12 ('ml4eo')",
   "language": "python",
   "name": "python3"
  },
  "language_info": {
   "codemirror_mode": {
    "name": "ipython",
    "version": 3
   },
   "file_extension": ".py",
   "mimetype": "text/x-python",
   "name": "python",
   "nbconvert_exporter": "python",
   "pygments_lexer": "ipython3",
   "version": "3.8.12"
  },
  "vscode": {
   "interpreter": {
    "hash": "a62142ad2b7fdafe296abcb814909a73cf18774c83801e20fa442f171b8faec7"
   }
  }
 },
 "nbformat": 4,
 "nbformat_minor": 4
}
