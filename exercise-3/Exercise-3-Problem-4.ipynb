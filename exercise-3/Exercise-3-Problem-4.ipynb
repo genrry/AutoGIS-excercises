{
 "cells": [
  {
   "cell_type": "markdown",
   "metadata": {},
   "source": [
    "## Problem 4: What is the closest shopping center from your home / work? (5 points)\n",
    "\n",
    "In the last problem you should find out the closest shopping center from two different locations a) your home and b) work place. \n",
    "\n",
    "**Steps**:\n",
    "\n",
    " - Create a txt-file called `activity_locations.txt` (use same formatting as in Problem 1) with two columns:\n",
    "    - `id`: unique id for each row\n",
    "    - `addr`:  address of your work and home (or any two addresses in the Helsinki Region.)\n",
    "    \n",
    "Save the text file into this repository.\n",
    "    \n",
    " - Read those addresses using pandas and geocode the addresses.\n",
    " - Find out the nearest shopping center to these points using Shapely `nearest_points`.\n",
    " - Print out the name of the shopping center that is nearest to a) home and b) work. For example: `Shopping center closest to home: REDI`."
   ]
  },
  {
   "cell_type": "code",
   "execution_count": 1,
   "metadata": {
    "deletable": false,
    "nbgrader": {
     "cell_type": "code",
     "checksum": "f8d9bb1491a5675d77264cebbf529f88",
     "grade": false,
     "grade_id": "read_data",
     "locked": false,
     "schema_version": 3,
     "solution": true
    }
   },
   "outputs": [],
   "source": [
    "# read in input files\n",
    "import pandas as pd\n",
    "import geopandas as gpd\n",
    "\n",
    "locations = pd.read_csv('activity_locations.txt', sep=';')\n",
    "shopping_centers = gpd.read_file('shopping_centers.shp')"
   ]
  },
  {
   "cell_type": "code",
   "execution_count": 2,
   "metadata": {
    "deletable": false,
    "nbgrader": {
     "cell_type": "code",
     "checksum": "cde51574e6cd404266ead2aad7ac5938",
     "grade": false,
     "grade_id": "geocode",
     "locked": false,
     "schema_version": 3,
     "solution": true,
     "task": false
    }
   },
   "outputs": [
    {
     "data": {
      "text/html": [
       "<div>\n",
       "<style scoped>\n",
       "    .dataframe tbody tr th:only-of-type {\n",
       "        vertical-align: middle;\n",
       "    }\n",
       "\n",
       "    .dataframe tbody tr th {\n",
       "        vertical-align: top;\n",
       "    }\n",
       "\n",
       "    .dataframe thead th {\n",
       "        text-align: right;\n",
       "    }\n",
       "</style>\n",
       "<table border=\"1\" class=\"dataframe\">\n",
       "  <thead>\n",
       "    <tr style=\"text-align: right;\">\n",
       "      <th></th>\n",
       "      <th>geometry</th>\n",
       "      <th>address</th>\n",
       "      <th>category</th>\n",
       "    </tr>\n",
       "  </thead>\n",
       "  <tbody>\n",
       "    <tr>\n",
       "      <th>0</th>\n",
       "      <td>POINT (25.01811 60.16924)</td>\n",
       "      <td>Koirasaarentie, Hopealaakso, Kruunuvuorenranta...</td>\n",
       "      <td>home</td>\n",
       "    </tr>\n",
       "    <tr>\n",
       "      <th>1</th>\n",
       "      <td>POINT (24.96214 60.20501)</td>\n",
       "      <td>Kumpulan kampuskirjasto, 2, Gustaf Hällströmin...</td>\n",
       "      <td>work</td>\n",
       "    </tr>\n",
       "  </tbody>\n",
       "</table>\n",
       "</div>"
      ],
      "text/plain": [
       "                    geometry  \\\n",
       "0  POINT (25.01811 60.16924)   \n",
       "1  POINT (24.96214 60.20501)   \n",
       "\n",
       "                                             address category  \n",
       "0  Koirasaarentie, Hopealaakso, Kruunuvuorenranta...     home  \n",
       "1  Kumpulan kampuskirjasto, 2, Gustaf Hällströmin...     work  "
      ]
     },
     "execution_count": 2,
     "metadata": {},
     "output_type": "execute_result"
    }
   ],
   "source": [
    "# Geocode activity locations\n",
    "from geopandas.tools import geocode\n",
    "\n",
    "geo_locations = geocode(locations['addr'], provider='nominatim', user_agent='autogis_00', timeout=5)\n",
    "geo_locations['category'] = ['home','work']\n",
    "geo_locations"
   ]
  },
  {
   "cell_type": "code",
   "execution_count": 3,
   "metadata": {
    "deletable": false,
    "nbgrader": {
     "cell_type": "code",
     "checksum": "866e8fe33cb5b2e5f7d3fbecd76130f1",
     "grade": false,
     "grade_id": "check_crs",
     "locked": false,
     "schema_version": 3,
     "solution": true,
     "task": false
    }
   },
   "outputs": [
    {
     "data": {
      "text/plain": [
       "<Derived Projected CRS: EPSG:3879>\n",
       "Name: ETRS89 / GK25FIN\n",
       "Axis Info [cartesian]:\n",
       "- N[north]: Northing (metre)\n",
       "- E[east]: Easting (metre)\n",
       "Area of Use:\n",
       "- name: Finland - nominally onshore between 24°30'E and 25°30'E but may be used in adjacent areas if a municipality chooses to use one zone over its whole extent.\n",
       "- bounds: (24.5, 59.94, 25.5, 68.9)\n",
       "Coordinate Operation:\n",
       "- name: Finland Gauss-Kruger zone 25\n",
       "- method: Transverse Mercator\n",
       "Datum: European Terrestrial Reference System 1989 ensemble\n",
       "- Ellipsoid: GRS 1980\n",
       "- Prime Meridian: Greenwich"
      ]
     },
     "execution_count": 3,
     "metadata": {},
     "output_type": "execute_result"
    }
   ],
   "source": [
    "# Check coordinate reference system information (re-project/define if needed)\n",
    "geo_locations = geo_locations.to_crs(shopping_centers.crs)\n",
    "geo_locations.crs"
   ]
  },
  {
   "cell_type": "code",
   "execution_count": 4,
   "metadata": {
    "deletable": false,
    "nbgrader": {
     "cell_type": "code",
     "checksum": "5c1d055ae749e65f0c63e487b074ad21",
     "grade": false,
     "grade_id": "nearest_points",
     "locked": false,
     "schema_version": 3,
     "solution": true,
     "task": false
    }
   },
   "outputs": [
    {
     "name": "stdout",
     "output_type": "stream",
     "text": [
      "Shopping center closest to home: REDI\n",
      "Shopping center closest to work: Tripla\n"
     ]
    }
   ],
   "source": [
    "# Find the closest shopping center for each activity location (closest shopping center from\n",
    "# and closest shopping center from work) and print out the results:\n",
    "from shapely.ops import nearest_points\n",
    "from shapely.geometry import MultiPoint\n",
    "\n",
    "nearest_tuples = geo_locations['geometry'].apply(lambda x: nearest_points(x, MultiPoint(shopping_centers['geometry'])), 1).values\n",
    "for cat, nearest_tuple in zip(geo_locations['category'].values,nearest_tuples):\n",
    "    origin, dest = nearest_tuple\n",
    "    print(f'Shopping center closest to {cat}: {shopping_centers[shopping_centers[\"geometry\"]==dest][\"name\"].iloc[0]}')"
   ]
  },
  {
   "cell_type": "code",
   "execution_count": 5,
   "metadata": {},
   "outputs": [
    {
     "name": "stdout",
     "output_type": "stream",
     "text": [
      "Shopping center closest to home: REDI\n",
      "Shopping center closest to work: Tripla\n"
     ]
    }
   ],
   "source": [
    "## Same computation using geopandas sjoin_nearest method\n",
    "\n",
    "nearest_join = geo_locations.sjoin_nearest(shopping_centers)\n",
    "\n",
    "for idx, row in nearest_join.iterrows():\n",
    "    print(f\"Shopping center closest to {row['category']}: {row['name']}\")"
   ]
  },
  {
   "cell_type": "markdown",
   "metadata": {},
   "source": [
    "Can you think of other application cases for the nearest neighbour analysis?"
   ]
  }
 ],
 "metadata": {
  "anaconda-cloud": {},
  "kernelspec": {
   "display_name": "Python 3.8.12 ('ml4eo')",
   "language": "python",
   "name": "python3"
  },
  "language_info": {
   "codemirror_mode": {
    "name": "ipython",
    "version": 3
   },
   "file_extension": ".py",
   "mimetype": "text/x-python",
   "name": "python",
   "nbconvert_exporter": "python",
   "pygments_lexer": "ipython3",
   "version": "3.8.12"
  },
  "vscode": {
   "interpreter": {
    "hash": "a62142ad2b7fdafe296abcb814909a73cf18774c83801e20fa442f171b8faec7"
   }
  }
 },
 "nbformat": 4,
 "nbformat_minor": 2
}
